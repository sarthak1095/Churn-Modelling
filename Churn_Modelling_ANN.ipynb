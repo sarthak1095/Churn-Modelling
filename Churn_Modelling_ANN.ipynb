{
  "nbformat": 4,
  "nbformat_minor": 0,
  "metadata": {
    "colab": {
      "provenance": [],
      "gpuType": "T4",
      "collapsed_sections": [
        "gWZyYmS_UE_L",
        "N6bQ0UgSU-NJ",
        "vHol938cW8zd",
        "RE_FcHyfV3TQ"
      ]
    },
    "kernelspec": {
      "name": "python3",
      "display_name": "Python 3"
    },
    "accelerator": "GPU"
  },
  "cells": [
    {
      "cell_type": "markdown",
      "metadata": {
        "id": "lP6JLo1tGNBg"
      },
      "source": [
        "# Artificial Neural Network"
      ]
    },
    {
      "cell_type": "markdown",
      "metadata": {
        "id": "gWZyYmS_UE_L"
      },
      "source": [
        "### Importing the libraries"
      ]
    },
    {
      "cell_type": "code",
      "source": [
        "import numpy as np\n",
        "import pandas as pd\n",
        "import tensorflow as tf"
      ],
      "metadata": {
        "id": "1KILSf-3twpP"
      },
      "execution_count": null,
      "outputs": []
    },
    {
      "cell_type": "code",
      "source": [
        "tf.__version__"
      ],
      "metadata": {
        "colab": {
          "base_uri": "https://localhost:8080/"
        },
        "id": "TWfd62JzuA7C",
        "outputId": "52948602-051f-4441-9a8e-1924cc89aa11"
      },
      "execution_count": null,
      "outputs": [
        {
          "output_type": "execute_result",
          "data": {
            "text/plain": [
              "'2.12.0'"
            ],
            "application/vnd.google.colaboratory.intrinsic+json": {
              "type": "string"
            }
          },
          "metadata": {},
          "execution_count": 71
        }
      ]
    },
    {
      "cell_type": "markdown",
      "metadata": {
        "id": "1E0Q3aoKUCRX"
      },
      "source": [
        "## Part 1 - Data Preprocessing"
      ]
    },
    {
      "cell_type": "markdown",
      "metadata": {
        "id": "cKWAkFVGUU0Z"
      },
      "source": [
        "### Importing the dataset"
      ]
    },
    {
      "cell_type": "code",
      "source": [
        "dataset = pd.read_csv('Churn_Modelling.csv')\n",
        "x = dataset.iloc[:, 3:-1].values\n",
        "y = dataset.iloc[:, -1].values"
      ],
      "metadata": {
        "id": "e8r_15dVxWte"
      },
      "execution_count": null,
      "outputs": []
    },
    {
      "cell_type": "code",
      "source": [
        "print(x)\n",
        "print(y)"
      ],
      "metadata": {
        "colab": {
          "base_uri": "https://localhost:8080/"
        },
        "id": "8ZgQBzEIyUCY",
        "outputId": "8de50e85-4c4d-4648-91e6-f4b555944f64"
      },
      "execution_count": null,
      "outputs": [
        {
          "output_type": "stream",
          "name": "stdout",
          "text": [
            "[[619 'France' 'Female' ... 1 1 101348.88]\n",
            " [608 'Spain' 'Female' ... 0 1 112542.58]\n",
            " [502 'France' 'Female' ... 1 0 113931.57]\n",
            " ...\n",
            " [709 'France' 'Female' ... 0 1 42085.58]\n",
            " [772 'Germany' 'Male' ... 1 0 92888.52]\n",
            " [792 'France' 'Female' ... 1 0 38190.78]]\n",
            "[1 0 1 ... 1 1 0]\n"
          ]
        }
      ]
    },
    {
      "cell_type": "markdown",
      "metadata": {
        "id": "N6bQ0UgSU-NJ"
      },
      "source": [
        "### Encoding categorical data"
      ]
    },
    {
      "cell_type": "markdown",
      "metadata": {
        "id": "le5MJreAbW52"
      },
      "source": [
        "Label Encoding the \"Gender\" column"
      ]
    },
    {
      "cell_type": "code",
      "source": [
        "from sklearn.preprocessing import LabelEncoder\n",
        "le = LabelEncoder()\n",
        "x[:, 2] = le.fit_transform(x[:, 2])"
      ],
      "metadata": {
        "id": "0oUQZoWOyl0L"
      },
      "execution_count": null,
      "outputs": []
    },
    {
      "cell_type": "markdown",
      "metadata": {
        "id": "CUxGZezpbMcb"
      },
      "source": [
        "One Hot Encoding the \"Geography\" column"
      ]
    },
    {
      "cell_type": "code",
      "source": [
        "from sklearn.compose import ColumnTransformer\n",
        "from sklearn.preprocessing import OneHotEncoder\n",
        "ct = ColumnTransformer(transformers=[('encoder', OneHotEncoder(), [1])], remainder='passthrough')\n",
        "x = np.array(ct.fit_transform(x))"
      ],
      "metadata": {
        "id": "RbulnnTd7Yp_"
      },
      "execution_count": null,
      "outputs": []
    },
    {
      "cell_type": "code",
      "source": [
        "print(x)"
      ],
      "metadata": {
        "colab": {
          "base_uri": "https://localhost:8080/"
        },
        "id": "rR66UGPQ7vMS",
        "outputId": "ecb9d5d9-0ce3-423b-c6a2-ce34fca7f139"
      },
      "execution_count": null,
      "outputs": [
        {
          "output_type": "stream",
          "name": "stdout",
          "text": [
            "[[1.0 0.0 0.0 ... 1 1 101348.88]\n",
            " [0.0 0.0 1.0 ... 0 1 112542.58]\n",
            " [1.0 0.0 0.0 ... 1 0 113931.57]\n",
            " ...\n",
            " [1.0 0.0 0.0 ... 0 1 42085.58]\n",
            " [0.0 1.0 0.0 ... 1 0 92888.52]\n",
            " [1.0 0.0 0.0 ... 1 0 38190.78]]\n"
          ]
        }
      ]
    },
    {
      "cell_type": "markdown",
      "metadata": {
        "id": "vHol938cW8zd"
      },
      "source": [
        "### Splitting the dataset into the Training set and Test set"
      ]
    },
    {
      "cell_type": "code",
      "source": [
        "from sklearn.model_selection import train_test_split\n",
        "X_train, X_test, y_train, y_test = train_test_split(x, y, test_size = 0.2, random_state = 0)"
      ],
      "metadata": {
        "id": "HaDXZ7jj8GSp"
      },
      "execution_count": null,
      "outputs": []
    },
    {
      "cell_type": "markdown",
      "metadata": {
        "id": "RE_FcHyfV3TQ"
      },
      "source": [
        "### Feature Scaling"
      ]
    },
    {
      "cell_type": "code",
      "source": [
        "from sklearn.preprocessing import StandardScaler\n",
        "sc = StandardScaler()\n",
        "X_train = sc.fit_transform(X_train)\n",
        "X_test = sc.transform(X_test)"
      ],
      "metadata": {
        "id": "7LTiTSpy8NzQ"
      },
      "execution_count": null,
      "outputs": []
    },
    {
      "cell_type": "markdown",
      "metadata": {
        "id": "-zfEzkRVXIwF"
      },
      "source": [
        "## Part 2 - Building the ANN"
      ]
    },
    {
      "cell_type": "markdown",
      "metadata": {
        "id": "KvdeScabXtlB"
      },
      "source": [
        "### Initializing the ANN"
      ]
    },
    {
      "cell_type": "code",
      "source": [
        "ann = tf.keras.models.Sequential()"
      ],
      "metadata": {
        "id": "TcUNEB1dXv3I"
      },
      "execution_count": null,
      "outputs": []
    },
    {
      "cell_type": "markdown",
      "metadata": {
        "id": "rP6urV6SX7kS"
      },
      "source": [
        "### Adding the input layer and the first hidden layer"
      ]
    },
    {
      "cell_type": "code",
      "source": [
        "ann.add(tf.keras.layers.Dense(units = 6, activation = 'relu'))"
      ],
      "metadata": {
        "id": "S0lKnccMciFy"
      },
      "execution_count": null,
      "outputs": []
    },
    {
      "cell_type": "markdown",
      "metadata": {
        "id": "BELWAc_8YJze"
      },
      "source": [
        "### Adding the second hidden layer"
      ]
    },
    {
      "cell_type": "code",
      "source": [
        "ann.add(tf.keras.layers.Dense(units = 6, activation = 'relu'))"
      ],
      "metadata": {
        "id": "Y_ZC-fd8hl0x"
      },
      "execution_count": null,
      "outputs": []
    },
    {
      "cell_type": "markdown",
      "metadata": {
        "id": "OyNEe6RXYcU4"
      },
      "source": [
        "### Adding the output layer"
      ]
    },
    {
      "cell_type": "code",
      "source": [
        "ann.add(tf.keras.layers.Dense(units = 1, activation = 'sigmoid'))"
      ],
      "metadata": {
        "id": "gottzUhxhovJ"
      },
      "execution_count": null,
      "outputs": []
    },
    {
      "cell_type": "markdown",
      "metadata": {
        "id": "JT4u2S1_Y4WG"
      },
      "source": [
        "## Part 3 - Training the ANN"
      ]
    },
    {
      "cell_type": "markdown",
      "metadata": {
        "id": "8GWlJChhY_ZI"
      },
      "source": [
        "### Compiling the ANN"
      ]
    },
    {
      "cell_type": "code",
      "source": [
        "ann.compile(optimizer = 'adam', loss = 'binary_crossentropy', metrics = ['accuracy'] )"
      ],
      "metadata": {
        "id": "ALICOTzgxQfS"
      },
      "execution_count": null,
      "outputs": []
    },
    {
      "cell_type": "markdown",
      "metadata": {
        "id": "0QR_G5u7ZLSM"
      },
      "source": [
        "### Training the ANN on the Training set"
      ]
    },
    {
      "cell_type": "code",
      "source": [
        "ann.fit(X_train, y_train, batch_size = 16, epochs = 100)"
      ],
      "metadata": {
        "colab": {
          "base_uri": "https://localhost:8080/"
        },
        "id": "9ubNC-KZyvx-",
        "outputId": "a0589c24-7270-4ee4-d8eb-112c421c0a21"
      },
      "execution_count": null,
      "outputs": [
        {
          "output_type": "stream",
          "name": "stdout",
          "text": [
            "Epoch 1/100\n",
            "500/500 [==============================] - 3s 3ms/step - loss: 0.4885 - accuracy: 0.7945\n",
            "Epoch 2/100\n",
            "500/500 [==============================] - 1s 3ms/step - loss: 0.4507 - accuracy: 0.7989\n",
            "Epoch 3/100\n",
            "500/500 [==============================] - 1s 3ms/step - loss: 0.4374 - accuracy: 0.8001\n",
            "Epoch 4/100\n",
            "500/500 [==============================] - 1s 3ms/step - loss: 0.4309 - accuracy: 0.8033\n",
            "Epoch 5/100\n",
            "500/500 [==============================] - 1s 3ms/step - loss: 0.4267 - accuracy: 0.8084\n",
            "Epoch 6/100\n",
            "500/500 [==============================] - 1s 3ms/step - loss: 0.4238 - accuracy: 0.8105\n",
            "Epoch 7/100\n",
            "500/500 [==============================] - 1s 3ms/step - loss: 0.4210 - accuracy: 0.8133\n",
            "Epoch 8/100\n",
            "500/500 [==============================] - 2s 3ms/step - loss: 0.4184 - accuracy: 0.8152\n",
            "Epoch 9/100\n",
            "500/500 [==============================] - 2s 4ms/step - loss: 0.4154 - accuracy: 0.8194\n",
            "Epoch 10/100\n",
            "500/500 [==============================] - 1s 3ms/step - loss: 0.4137 - accuracy: 0.8183\n",
            "Epoch 11/100\n",
            "500/500 [==============================] - 1s 3ms/step - loss: 0.4106 - accuracy: 0.8209\n",
            "Epoch 12/100\n",
            "500/500 [==============================] - 1s 3ms/step - loss: 0.4072 - accuracy: 0.8205\n",
            "Epoch 13/100\n",
            "500/500 [==============================] - 1s 3ms/step - loss: 0.4024 - accuracy: 0.8225\n",
            "Epoch 14/100\n",
            "500/500 [==============================] - 1s 3ms/step - loss: 0.3971 - accuracy: 0.8242\n",
            "Epoch 15/100\n",
            "500/500 [==============================] - 1s 3ms/step - loss: 0.3881 - accuracy: 0.8315\n",
            "Epoch 16/100\n",
            "500/500 [==============================] - 1s 3ms/step - loss: 0.3784 - accuracy: 0.8374\n",
            "Epoch 17/100\n",
            "500/500 [==============================] - 2s 3ms/step - loss: 0.3695 - accuracy: 0.8449\n",
            "Epoch 18/100\n",
            "500/500 [==============================] - 2s 3ms/step - loss: 0.3628 - accuracy: 0.8512\n",
            "Epoch 19/100\n",
            "500/500 [==============================] - 1s 3ms/step - loss: 0.3588 - accuracy: 0.8535\n",
            "Epoch 20/100\n",
            "500/500 [==============================] - 1s 3ms/step - loss: 0.3564 - accuracy: 0.8550\n",
            "Epoch 21/100\n",
            "500/500 [==============================] - 1s 3ms/step - loss: 0.3548 - accuracy: 0.8566\n",
            "Epoch 22/100\n",
            "500/500 [==============================] - 1s 3ms/step - loss: 0.3534 - accuracy: 0.8569\n",
            "Epoch 23/100\n",
            "500/500 [==============================] - 1s 3ms/step - loss: 0.3521 - accuracy: 0.8589\n",
            "Epoch 24/100\n",
            "500/500 [==============================] - 1s 3ms/step - loss: 0.3515 - accuracy: 0.8581\n",
            "Epoch 25/100\n",
            "500/500 [==============================] - 1s 3ms/step - loss: 0.3505 - accuracy: 0.8591\n",
            "Epoch 26/100\n",
            "500/500 [==============================] - 2s 4ms/step - loss: 0.3498 - accuracy: 0.8583\n",
            "Epoch 27/100\n",
            "500/500 [==============================] - 2s 3ms/step - loss: 0.3487 - accuracy: 0.8600\n",
            "Epoch 28/100\n",
            "500/500 [==============================] - 1s 3ms/step - loss: 0.3483 - accuracy: 0.8585\n",
            "Epoch 29/100\n",
            "500/500 [==============================] - 1s 3ms/step - loss: 0.3474 - accuracy: 0.8576\n",
            "Epoch 30/100\n",
            "500/500 [==============================] - 1s 3ms/step - loss: 0.3471 - accuracy: 0.8586\n",
            "Epoch 31/100\n",
            "500/500 [==============================] - 1s 3ms/step - loss: 0.3464 - accuracy: 0.8608\n",
            "Epoch 32/100\n",
            "500/500 [==============================] - 1s 3ms/step - loss: 0.3464 - accuracy: 0.8580\n",
            "Epoch 33/100\n",
            "500/500 [==============================] - 1s 3ms/step - loss: 0.3452 - accuracy: 0.8591\n",
            "Epoch 34/100\n",
            "500/500 [==============================] - 1s 3ms/step - loss: 0.3453 - accuracy: 0.8586\n",
            "Epoch 35/100\n",
            "500/500 [==============================] - 2s 4ms/step - loss: 0.3446 - accuracy: 0.8606\n",
            "Epoch 36/100\n",
            "500/500 [==============================] - 1s 3ms/step - loss: 0.3443 - accuracy: 0.8610\n",
            "Epoch 37/100\n",
            "500/500 [==============================] - 1s 3ms/step - loss: 0.3447 - accuracy: 0.8584\n",
            "Epoch 38/100\n",
            "500/500 [==============================] - 1s 3ms/step - loss: 0.3437 - accuracy: 0.8579\n",
            "Epoch 39/100\n",
            "500/500 [==============================] - 1s 3ms/step - loss: 0.3441 - accuracy: 0.8586\n",
            "Epoch 40/100\n",
            "500/500 [==============================] - 1s 3ms/step - loss: 0.3438 - accuracy: 0.8583\n",
            "Epoch 41/100\n",
            "500/500 [==============================] - 1s 3ms/step - loss: 0.3433 - accuracy: 0.8585\n",
            "Epoch 42/100\n",
            "500/500 [==============================] - 1s 3ms/step - loss: 0.3436 - accuracy: 0.8584\n",
            "Epoch 43/100\n",
            "500/500 [==============================] - 2s 3ms/step - loss: 0.3427 - accuracy: 0.8593\n",
            "Epoch 44/100\n",
            "500/500 [==============================] - 2s 3ms/step - loss: 0.3431 - accuracy: 0.8604\n",
            "Epoch 45/100\n",
            "500/500 [==============================] - 1s 3ms/step - loss: 0.3423 - accuracy: 0.8594\n",
            "Epoch 46/100\n",
            "500/500 [==============================] - 1s 3ms/step - loss: 0.3424 - accuracy: 0.8585\n",
            "Epoch 47/100\n",
            "500/500 [==============================] - 1s 3ms/step - loss: 0.3419 - accuracy: 0.8599\n",
            "Epoch 48/100\n",
            "500/500 [==============================] - 1s 3ms/step - loss: 0.3416 - accuracy: 0.8602\n",
            "Epoch 49/100\n",
            "500/500 [==============================] - 1s 3ms/step - loss: 0.3417 - accuracy: 0.8614\n",
            "Epoch 50/100\n",
            "500/500 [==============================] - 1s 3ms/step - loss: 0.3413 - accuracy: 0.8611\n",
            "Epoch 51/100\n",
            "500/500 [==============================] - 1s 3ms/step - loss: 0.3418 - accuracy: 0.8614\n",
            "Epoch 52/100\n",
            "500/500 [==============================] - 2s 4ms/step - loss: 0.3413 - accuracy: 0.8629\n",
            "Epoch 53/100\n",
            "500/500 [==============================] - 1s 3ms/step - loss: 0.3413 - accuracy: 0.8609\n",
            "Epoch 54/100\n",
            "500/500 [==============================] - 1s 3ms/step - loss: 0.3410 - accuracy: 0.8625\n",
            "Epoch 55/100\n",
            "500/500 [==============================] - 1s 3ms/step - loss: 0.3416 - accuracy: 0.8609\n",
            "Epoch 56/100\n",
            "500/500 [==============================] - 1s 3ms/step - loss: 0.3407 - accuracy: 0.8602\n",
            "Epoch 57/100\n",
            "500/500 [==============================] - 1s 3ms/step - loss: 0.3408 - accuracy: 0.8606\n",
            "Epoch 58/100\n",
            "500/500 [==============================] - 1s 3ms/step - loss: 0.3405 - accuracy: 0.8600\n",
            "Epoch 59/100\n",
            "500/500 [==============================] - 1s 3ms/step - loss: 0.3407 - accuracy: 0.8622\n",
            "Epoch 60/100\n",
            "500/500 [==============================] - 2s 3ms/step - loss: 0.3405 - accuracy: 0.8597\n",
            "Epoch 61/100\n",
            "500/500 [==============================] - 2s 4ms/step - loss: 0.3405 - accuracy: 0.8595\n",
            "Epoch 62/100\n",
            "500/500 [==============================] - 1s 3ms/step - loss: 0.3398 - accuracy: 0.8620\n",
            "Epoch 63/100\n",
            "500/500 [==============================] - 1s 3ms/step - loss: 0.3401 - accuracy: 0.8622\n",
            "Epoch 64/100\n",
            "500/500 [==============================] - 1s 3ms/step - loss: 0.3402 - accuracy: 0.8615\n",
            "Epoch 65/100\n",
            "500/500 [==============================] - 1s 3ms/step - loss: 0.3403 - accuracy: 0.8620\n",
            "Epoch 66/100\n",
            "500/500 [==============================] - 1s 3ms/step - loss: 0.3398 - accuracy: 0.8616\n",
            "Epoch 67/100\n",
            "500/500 [==============================] - 1s 3ms/step - loss: 0.3392 - accuracy: 0.8619\n",
            "Epoch 68/100\n",
            "500/500 [==============================] - 1s 3ms/step - loss: 0.3395 - accuracy: 0.8608\n",
            "Epoch 69/100\n",
            "500/500 [==============================] - 2s 4ms/step - loss: 0.3395 - accuracy: 0.8606\n",
            "Epoch 70/100\n",
            "500/500 [==============================] - 2s 3ms/step - loss: 0.3392 - accuracy: 0.8610\n",
            "Epoch 71/100\n",
            "500/500 [==============================] - 1s 3ms/step - loss: 0.3387 - accuracy: 0.8629\n",
            "Epoch 72/100\n",
            "500/500 [==============================] - 1s 3ms/step - loss: 0.3391 - accuracy: 0.8612\n",
            "Epoch 73/100\n",
            "500/500 [==============================] - 1s 3ms/step - loss: 0.3393 - accuracy: 0.8615\n",
            "Epoch 74/100\n",
            "500/500 [==============================] - 1s 3ms/step - loss: 0.3394 - accuracy: 0.8614\n",
            "Epoch 75/100\n",
            "500/500 [==============================] - 1s 3ms/step - loss: 0.3393 - accuracy: 0.8601\n",
            "Epoch 76/100\n",
            "500/500 [==============================] - 1s 3ms/step - loss: 0.3387 - accuracy: 0.8619\n",
            "Epoch 77/100\n",
            "500/500 [==============================] - 1s 3ms/step - loss: 0.3388 - accuracy: 0.8618\n",
            "Epoch 78/100\n",
            "500/500 [==============================] - 2s 4ms/step - loss: 0.3386 - accuracy: 0.8612\n",
            "Epoch 79/100\n",
            "500/500 [==============================] - 1s 3ms/step - loss: 0.3388 - accuracy: 0.8624\n",
            "Epoch 80/100\n",
            "500/500 [==============================] - 1s 3ms/step - loss: 0.3392 - accuracy: 0.8616\n",
            "Epoch 81/100\n",
            "500/500 [==============================] - 1s 3ms/step - loss: 0.3387 - accuracy: 0.8626\n",
            "Epoch 82/100\n",
            "500/500 [==============================] - 1s 3ms/step - loss: 0.3387 - accuracy: 0.8621\n",
            "Epoch 83/100\n",
            "500/500 [==============================] - 1s 3ms/step - loss: 0.3385 - accuracy: 0.8621\n",
            "Epoch 84/100\n",
            "500/500 [==============================] - 1s 3ms/step - loss: 0.3382 - accuracy: 0.8622\n",
            "Epoch 85/100\n",
            "500/500 [==============================] - 1s 3ms/step - loss: 0.3382 - accuracy: 0.8620\n",
            "Epoch 86/100\n",
            "500/500 [==============================] - 2s 3ms/step - loss: 0.3385 - accuracy: 0.8601\n",
            "Epoch 87/100\n",
            "500/500 [==============================] - 2s 3ms/step - loss: 0.3384 - accuracy: 0.8615\n",
            "Epoch 88/100\n",
            "500/500 [==============================] - 1s 3ms/step - loss: 0.3378 - accuracy: 0.8633\n",
            "Epoch 89/100\n",
            "500/500 [==============================] - 1s 3ms/step - loss: 0.3382 - accuracy: 0.8616\n",
            "Epoch 90/100\n",
            "500/500 [==============================] - 1s 3ms/step - loss: 0.3381 - accuracy: 0.8634\n",
            "Epoch 91/100\n",
            "500/500 [==============================] - 1s 3ms/step - loss: 0.3386 - accuracy: 0.8627\n",
            "Epoch 92/100\n",
            "500/500 [==============================] - 1s 3ms/step - loss: 0.3378 - accuracy: 0.8637\n",
            "Epoch 93/100\n",
            "500/500 [==============================] - 1s 3ms/step - loss: 0.3380 - accuracy: 0.8624\n",
            "Epoch 94/100\n",
            "500/500 [==============================] - 1s 3ms/step - loss: 0.3380 - accuracy: 0.8635\n",
            "Epoch 95/100\n",
            "500/500 [==============================] - 2s 4ms/step - loss: 0.3381 - accuracy: 0.8618\n",
            "Epoch 96/100\n",
            "500/500 [==============================] - 2s 3ms/step - loss: 0.3378 - accuracy: 0.8616\n",
            "Epoch 97/100\n",
            "500/500 [==============================] - 1s 3ms/step - loss: 0.3373 - accuracy: 0.8630\n",
            "Epoch 98/100\n",
            "500/500 [==============================] - 1s 3ms/step - loss: 0.3376 - accuracy: 0.8649\n",
            "Epoch 99/100\n",
            "500/500 [==============================] - 1s 3ms/step - loss: 0.3374 - accuracy: 0.8634\n",
            "Epoch 100/100\n",
            "500/500 [==============================] - 1s 3ms/step - loss: 0.3376 - accuracy: 0.8625\n"
          ]
        },
        {
          "output_type": "execute_result",
          "data": {
            "text/plain": [
              "<keras.callbacks.History at 0x7fedd082bc70>"
            ]
          },
          "metadata": {},
          "execution_count": 84
        }
      ]
    },
    {
      "cell_type": "markdown",
      "metadata": {
        "id": "tJj5k2MxZga3"
      },
      "source": [
        "## Part 4 - Making the predictions and evaluating the model"
      ]
    },
    {
      "cell_type": "code",
      "source": [
        "loss, accuracy = ann.evaluate(X_test, y_test)"
      ],
      "metadata": {
        "colab": {
          "base_uri": "https://localhost:8080/"
        },
        "id": "Y16t-Gmv0wJq",
        "outputId": "68f253fa-b33c-4eda-9eaf-edcb0a9b63e3"
      },
      "execution_count": null,
      "outputs": [
        {
          "output_type": "stream",
          "name": "stdout",
          "text": [
            "63/63 [==============================] - 0s 2ms/step - loss: 0.3378 - accuracy: 0.8590\n"
          ]
        }
      ]
    },
    {
      "cell_type": "markdown",
      "metadata": {
        "id": "u7yx47jPZt11"
      },
      "source": [
        "### Predicting the Test set results"
      ]
    },
    {
      "cell_type": "code",
      "source": [
        "y_pred = ann.predict(X_test)\n",
        "y_pred = (y_pred > 0.5)\n",
        "print(np.concatenate((y_pred.reshape(len(y_pred),1), y_test.reshape(len(y_test),1)),1))"
      ],
      "metadata": {
        "colab": {
          "base_uri": "https://localhost:8080/"
        },
        "id": "-h0iuqNJ5dDQ",
        "outputId": "84ee0cbe-b644-4a5c-f4dd-e5b1d043ba25"
      },
      "execution_count": null,
      "outputs": [
        {
          "output_type": "stream",
          "name": "stdout",
          "text": [
            "63/63 [==============================] - 0s 1ms/step\n",
            "[[0 0]\n",
            " [0 1]\n",
            " [0 0]\n",
            " ...\n",
            " [0 0]\n",
            " [0 0]\n",
            " [0 0]]\n"
          ]
        }
      ]
    },
    {
      "cell_type": "markdown",
      "source": [],
      "metadata": {
        "id": "vkySiYRJ5kEL"
      }
    },
    {
      "cell_type": "markdown",
      "metadata": {
        "id": "o0oyfLWoaEGw"
      },
      "source": [
        "### Making the Confusion Matrix"
      ]
    },
    {
      "cell_type": "code",
      "source": [
        "from sklearn.metrics import confusion_matrix, accuracy_score\n",
        "cm = confusion_matrix(y_test, y_pred)\n",
        "print(cm)\n",
        "accuracy_score(y_test, y_pred)"
      ],
      "metadata": {
        "colab": {
          "base_uri": "https://localhost:8080/"
        },
        "id": "CB3tDaIL5jGx",
        "outputId": "c3c3a4f8-cd2b-464d-ea1e-80115b854bd3"
      },
      "execution_count": null,
      "outputs": [
        {
          "output_type": "stream",
          "name": "stdout",
          "text": [
            "[[1509   86]\n",
            " [ 196  209]]\n"
          ]
        },
        {
          "output_type": "execute_result",
          "data": {
            "text/plain": [
              "0.859"
            ]
          },
          "metadata": {},
          "execution_count": 87
        }
      ]
    },
    {
      "cell_type": "markdown",
      "metadata": {
        "id": "84QFoqGYeXHL"
      },
      "source": [
        "### Predicting the result of a single observation"
      ]
    },
    {
      "cell_type": "markdown",
      "metadata": {
        "id": "CGRo3eacgDdC"
      },
      "source": [
        "**Use Case**\n",
        "\n",
        "Use the ANN model to predict if the customer with the following informations will leave the bank:\n",
        "\n",
        "Geography: France\n",
        "\n",
        "Credit Score: 600\n",
        "\n",
        "Gender: Male\n",
        "\n",
        "Age: 40 years old\n",
        "\n",
        "Tenure: 3 years\n",
        "\n",
        "Balance: \\$ 60000\n",
        "\n",
        "Number of Products: 2\n",
        "\n",
        "Does this customer have a credit card? Yes\n",
        "\n",
        "Is this customer an Active Member: Yes\n",
        "\n",
        "Estimated Salary: \\$ 50000\n",
        "\n",
        "So, should we say goodbye to that customer?"
      ]
    },
    {
      "cell_type": "markdown",
      "metadata": {
        "id": "ZhU1LTgPg-kH"
      },
      "source": [
        "**Solution**"
      ]
    },
    {
      "cell_type": "code",
      "source": [
        "print(ann.predict(sc.transform([[1, 0, 0, 600, 1, 40, 3, 60000, 2, 1, 1, 50000]])))"
      ],
      "metadata": {
        "colab": {
          "base_uri": "https://localhost:8080/"
        },
        "id": "AMzfC8wk5Jgl",
        "outputId": "63fa0865-1d07-419e-aa7d-325f720908c8"
      },
      "execution_count": null,
      "outputs": [
        {
          "output_type": "stream",
          "name": "stdout",
          "text": [
            "1/1 [==============================] - 0s 18ms/step\n",
            "[[0.03600476]]\n"
          ]
        }
      ]
    },
    {
      "cell_type": "code",
      "source": [
        "print(ann.predict(sc.transform([[1, 0, 0, 600, 1, 40, 3, 60000, 2, 1, 1, 50000]])) > 0.5)"
      ],
      "metadata": {
        "colab": {
          "base_uri": "https://localhost:8080/"
        },
        "id": "GKeMFSDc5JWM",
        "outputId": "d136bc3f-94fe-4ebc-c813-191e5ecf499e"
      },
      "execution_count": null,
      "outputs": [
        {
          "output_type": "stream",
          "name": "stdout",
          "text": [
            "1/1 [==============================] - 0s 18ms/step\n",
            "[[False]]\n"
          ]
        }
      ]
    }
  ]
}